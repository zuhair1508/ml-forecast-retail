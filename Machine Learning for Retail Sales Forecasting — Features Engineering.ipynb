{
 "cells": [
  {
   "cell_type": "code",
   "execution_count": 1,
   "metadata": {
    "collapsed": true
   },
   "outputs": [],
   "source": [
    "# Notebook inspired by the models shared:\n",
    "# Link: https://www.kaggle.com/anshuls235/time-series-forecasting-eda-fe-modelling\n",
    "# Link: https://www.kaggle.com/kneroma/m5-first-public-notebook-under-0-50/notebook"
   ]
  },
  {
   "cell_type": "markdown",
   "metadata": {},
   "source": [
    "### Import Libraries"
   ]
  },
  {
   "cell_type": "code",
   "execution_count": 2,
   "metadata": {},
   "outputs": [],
   "source": [
    "import pandas as pd\n",
    "import numpy as np\n",
    "import lightgbm\n",
    "from lightgbm import LGBMRegressor\n",
    "from sklearn.model_selection import RandomizedSearchCV\n",
    "import joblib\n",
    "import os\n",
    "import matplotlib.pyplot as plt\n",
    "import seaborn as sns\n",
    "import warnings\n",
    "import pickle\n",
    "from pathlib import Path"
   ]
  },
  {
   "cell_type": "code",
   "execution_count": 7,
   "metadata": {
    "collapsed": true
   },
   "outputs": [],
   "source": [
    "# Better rendering \n",
    "from IPython.core.display import HTML\n",
    "HTML(\"<style>.rendered_html th {max-width: 120px;}</style>\")\n",
    "\n",
    "warnings.filterwarnings('ignore')\n",
    "\n",
    "# settings to display all columns\n",
    "pd.set_option(\"display.max_columns\", None)"
   ]
  },
  {
   "cell_type": "code",
   "execution_count": 8,
   "metadata": {},
   "outputs": [
    {
     "data": {
      "text/html": [
       "<style>\n",
       ".dataframe td {\n",
       "    white-space: nowrap;\n",
       "}\n",
       "</style>\n"
      ],
      "text/plain": [
       "<IPython.core.display.HTML object>"
      ]
     },
     "metadata": {},
     "output_type": "display_data"
    }
   ],
   "source": [
    "%%html\n",
    "<style>\n",
    ".dataframe td {\n",
    "    white-space: nowrap;\n",
    "}\n",
    "</style>"
   ]
  },
  {
   "cell_type": "markdown",
   "metadata": {},
   "source": [
    "---"
   ]
  },
  {
   "cell_type": "markdown",
   "metadata": {},
   "source": [
    "### 1. Fetch Data and Processing\n",
    "#### Import Data"
   ]
  },
  {
   "cell_type": "code",
   "execution_count": 10,
   "metadata": {},
   "outputs": [
    {
     "name": "stdout",
     "output_type": "stream",
     "text": [
      "30,490 records for training data\n",
      "1,969 records for calendar data\n",
      "6,841,121 records for price data\n"
     ]
    }
   ],
   "source": [
    "# Sales Data: Training Set (1-1913) + Validation Set (1914-1941)\n",
    "sales = pd.read_csv('data/sales_train_evaluation.csv')\n",
    "sales.name = 'sales'\n",
    "\n",
    "print(\"{:,} records for training data\".format(len(sales)))\n",
    "\n",
    "# Calendar\n",
    "calendar = pd.read_csv('data/calendar.csv')\n",
    "calendar.name = 'calendar'\n",
    "print(\"{:,} records for calendar data\".format(len(calendar)))\n",
    "\n",
    "# Pricing\n",
    "prices = pd.read_csv('Data/sell_prices.csv')\n",
    "prices.name = 'prices'\n",
    "print(\"{:,} records for price data\".format(len(prices)))"
   ]
  },
  {
   "cell_type": "markdown",
   "metadata": {},
   "source": [
    "#### Add records for testing"
   ]
  },
  {
   "cell_type": "code",
   "execution_count": 11,
   "metadata": {
    "collapsed": true
   },
   "outputs": [],
   "source": [
    "# Add zero sales for the remaining days 1942-1969\n",
    "for d in range(1942,1970):\n",
    "    col = 'd_' + str(d)\n",
    "    sales[col] = 0\n",
    "    sales[col] = sales[col].astype(np.int16)"
   ]
  },
  {
   "cell_type": "markdown",
   "metadata": {},
   "source": [
    "#### Downcasting to reduce memory\n",
    "Source: https://www.kaggle.com/anshuls235/time-series-forecasting-eda-fe-modelling\n",
    "> Shout out to him, it's very useful!"
   ]
  },
  {
   "cell_type": "code",
   "execution_count": 14,
   "metadata": {
    "collapsed": true
   },
   "outputs": [],
   "source": [
    "# Downcast in order to save memory\n",
    "def downcast(df):\n",
    "    cols = df.dtypes.index.tolist()\n",
    "    types = df.dtypes.values.tolist()\n",
    "    for i,t in enumerate(types):\n",
    "        # Integer\n",
    "        if 'int' in str(t):\n",
    "            # Check if minimum and maximum are in the limit of int8\n",
    "            if df[cols[i]].min() > np.iinfo(np.int8).min and df[cols[i]].max() < np.iinfo(np.int8).max:\n",
    "                df[cols[i]] = df[cols[i]].astype(np.int8)\n",
    "            # Check if minimum and maximum are in the limit of int16\n",
    "            elif df[cols[i]].min() > np.iinfo(np.int16).min and df[cols[i]].max() < np.iinfo(np.int16).max:\n",
    "                df[cols[i]] = df[cols[i]].astype(np.int16)\n",
    "            # Check if minimum and maximum are in the limit of int32\n",
    "            elif df[cols[i]].min() > np.iinfo(np.int32).min and df[cols[i]].max() < np.iinfo(np.int32).max:\n",
    "                df[cols[i]] = df[cols[i]].astype(np.int32)\n",
    "            # Choose int64\n",
    "            else:\n",
    "                df[cols[i]] = df[cols[i]].astype(np.int64)\n",
    "        # Float\n",
    "        elif 'float' in str(t):\n",
    "            if df[cols[i]].min() > np.finfo(np.float16).min and df[cols[i]].max() < np.finfo(np.float16).max:\n",
    "                df[cols[i]] = df[cols[i]].astype(np.float16)\n",
    "            elif df[cols[i]].min() > np.finfo(np.float32).min and df[cols[i]].max() < np.finfo(np.float32).max:\n",
    "                df[cols[i]] = df[cols[i]].astype(np.float32)\n",
    "            else:\n",
    "                df[cols[i]] = df[cols[i]].astype(np.float64)\n",
    "        # Object\n",
    "        elif t == object:\n",
    "            if cols[i] == 'date':\n",
    "                df[cols[i]] = pd.to_datetime(df[cols[i]], format='%Y-%m-%d')\n",
    "            else:\n",
    "                df[cols[i]] = df[cols[i]].astype('category')\n",
    "    return df  \n",
    "\n",
    "# # Apply downcasting\n",
    "sales = downcast(sales)\n",
    "prices = downcast(prices)\n",
    "calendar = downcast(calendar)"
   ]
  },
  {
   "cell_type": "markdown",
   "metadata": {},
   "source": [
    "### Additional Features: Pricing\n",
    "- Relative difference between the current price of an item and its historical average price, to highlight promotional offers’ impact.\n",
    "- Price relative difference with the same item sold in other stores, to understand whether or not the store has an attractive price.\n",
    "- Price relative difference with other items sold in the same store and same product category, to capture some cannibalization effects."
   ]
  },
  {
   "cell_type": "code",
   "execution_count": 15,
   "metadata": {
    "collapsed": true
   },
   "outputs": [],
   "source": [
    "def improve_price():\n",
    "    # Calculate Average price for all stores\n",
    "    df_mean_store = pd.DataFrame(prices.groupby(['item_id', 'wm_yr_wk'])['sell_price'].mean())\n",
    "    df_mean_store.columns = ['item_sells_price_avg']\n",
    "    df_mean_store.reset_index(inplace = True)\n",
    "\n",
    "    # Combine with calendar\n",
    "    prices_new = pd.merge(prices, df_mean_store, on=['item_id', 'wm_yr_wk'], how='left', suffixes=('', '_y'))\n",
    "    prices_new.drop(prices_new.filter(regex='_y$').columns.tolist(),axis=1, inplace=True)\n",
    "\n",
    "    # Price difference with same items in other stores\n",
    "    prices_new['delta_price_all_rel'] = (prices_new['sell_price'] - \n",
    "                                         prices_new['item_sells_price_avg'])/prices_new['item_sells_price_avg']\n",
    "\n",
    "    # Price difference with last week\n",
    "    prices_new['item_store'] = prices_new['item_id'].astype(str) + '_' + prices_new['store_id'].astype(str)\n",
    "    prices_new['item_store_change'] = prices_new[\"item_store\"].shift() != prices_new[\"item_store\"]\n",
    "    # Price difference week n - week n-1\n",
    "    prices_new['delta_price_weekn-1'] = (prices_new['sell_price']-\n",
    "                                         prices_new['sell_price'].shift(1)).fillna(0)/prices_new['sell_price'].shift(1)\n",
    "    prices_new['delta_price_weekn-1'] = prices_new['delta_price_weekn-1'].fillna(0) * (prices_new['item_store_change']==0)\n",
    "\n",
    "    # Average price of the department by store\n",
    "    prices_new['dept_id'] = prices_new.item_id.str[:-4]\n",
    "    df_mean_cat = pd.DataFrame(prices_new.groupby(['dept_id', 'store_id', 'wm_yr_wk'])['sell_price'].mean())\n",
    "    df_mean_cat.columns = ['dept_sells_price_avg']\n",
    "    df_mean_cat.reset_index(inplace = True)\n",
    "    # Combine with price dataset\n",
    "    prices_new = pd.merge(prices_new, df_mean_cat, on=['dept_id', 'store_id', 'wm_yr_wk']\n",
    "                          , how='left', suffixes=('', '_y'))\n",
    "    prices_new.drop(prices_new.filter(regex='_y$').columns.tolist(),axis=1, inplace=True)\n",
    "\n",
    "    # Cannibalisation: compare this item price with average of the department (category)\n",
    "    prices_new['delta_price_cat_rel'] = (prices_new['sell_price'] - \n",
    "                                         prices_new['dept_sells_price_avg'])/prices_new['dept_sells_price_avg']                                               \n",
    "\n",
    "    # Drop columns\n",
    "    prices_new.drop(['item_sells_price_avg', 'item_store_change', 'item_store_change', 'dept_id', 'item_store',\n",
    "                    'dept_sells_price_avg'], axis = 1, inplace = True)"
   ]
  },
  {
   "cell_type": "markdown",
   "metadata": {},
   "source": [
    "### 2. Melt Data to reconstitute sales records\n",
    "#### Convert from wide to long format (records on row level)"
   ]
  },
  {
   "cell_type": "code",
   "execution_count": 16,
   "metadata": {},
   "outputs": [
    {
     "name": "stdout",
     "output_type": "stream",
     "text": [
      "60,034,810 records to combine with calendar and price\n"
     ]
    },
    {
     "data": {
      "text/html": [
       "<div>\n",
       "<style scoped>\n",
       "    .dataframe tbody tr th:only-of-type {\n",
       "        vertical-align: middle;\n",
       "    }\n",
       "\n",
       "    .dataframe tbody tr th {\n",
       "        vertical-align: top;\n",
       "    }\n",
       "\n",
       "    .dataframe thead th {\n",
       "        text-align: right;\n",
       "    }\n",
       "</style>\n",
       "<table border=\"1\" class=\"dataframe\">\n",
       "  <thead>\n",
       "    <tr style=\"text-align: right;\">\n",
       "      <th></th>\n",
       "      <th>id</th>\n",
       "      <th>item_id</th>\n",
       "      <th>dept_id</th>\n",
       "      <th>cat_id</th>\n",
       "      <th>store_id</th>\n",
       "      <th>state_id</th>\n",
       "      <th>d</th>\n",
       "      <th>sold</th>\n",
       "    </tr>\n",
       "  </thead>\n",
       "  <tbody>\n",
       "    <tr>\n",
       "      <th>0</th>\n",
       "      <td>HOBBIES_1_001_CA_1_evaluation</td>\n",
       "      <td>HOBBIES_1_001</td>\n",
       "      <td>HOBBIES_1</td>\n",
       "      <td>HOBBIES</td>\n",
       "      <td>CA_1</td>\n",
       "      <td>CA</td>\n",
       "      <td>d_1</td>\n",
       "      <td>0</td>\n",
       "    </tr>\n",
       "    <tr>\n",
       "      <th>1</th>\n",
       "      <td>HOBBIES_1_002_CA_1_evaluation</td>\n",
       "      <td>HOBBIES_1_002</td>\n",
       "      <td>HOBBIES_1</td>\n",
       "      <td>HOBBIES</td>\n",
       "      <td>CA_1</td>\n",
       "      <td>CA</td>\n",
       "      <td>d_1</td>\n",
       "      <td>0</td>\n",
       "    </tr>\n",
       "    <tr>\n",
       "      <th>2</th>\n",
       "      <td>HOBBIES_1_003_CA_1_evaluation</td>\n",
       "      <td>HOBBIES_1_003</td>\n",
       "      <td>HOBBIES_1</td>\n",
       "      <td>HOBBIES</td>\n",
       "      <td>CA_1</td>\n",
       "      <td>CA</td>\n",
       "      <td>d_1</td>\n",
       "      <td>0</td>\n",
       "    </tr>\n",
       "    <tr>\n",
       "      <th>3</th>\n",
       "      <td>HOBBIES_1_004_CA_1_evaluation</td>\n",
       "      <td>HOBBIES_1_004</td>\n",
       "      <td>HOBBIES_1</td>\n",
       "      <td>HOBBIES</td>\n",
       "      <td>CA_1</td>\n",
       "      <td>CA</td>\n",
       "      <td>d_1</td>\n",
       "      <td>0</td>\n",
       "    </tr>\n",
       "    <tr>\n",
       "      <th>4</th>\n",
       "      <td>HOBBIES_1_005_CA_1_evaluation</td>\n",
       "      <td>HOBBIES_1_005</td>\n",
       "      <td>HOBBIES_1</td>\n",
       "      <td>HOBBIES</td>\n",
       "      <td>CA_1</td>\n",
       "      <td>CA</td>\n",
       "      <td>d_1</td>\n",
       "      <td>0</td>\n",
       "    </tr>\n",
       "  </tbody>\n",
       "</table>\n",
       "</div>"
      ],
      "text/plain": [
       "                              id        item_id    dept_id   cat_id store_id  \\\n",
       "0  HOBBIES_1_001_CA_1_evaluation  HOBBIES_1_001  HOBBIES_1  HOBBIES     CA_1   \n",
       "1  HOBBIES_1_002_CA_1_evaluation  HOBBIES_1_002  HOBBIES_1  HOBBIES     CA_1   \n",
       "2  HOBBIES_1_003_CA_1_evaluation  HOBBIES_1_003  HOBBIES_1  HOBBIES     CA_1   \n",
       "3  HOBBIES_1_004_CA_1_evaluation  HOBBIES_1_004  HOBBIES_1  HOBBIES     CA_1   \n",
       "4  HOBBIES_1_005_CA_1_evaluation  HOBBIES_1_005  HOBBIES_1  HOBBIES     CA_1   \n",
       "\n",
       "  state_id    d  sold  \n",
       "0       CA  d_1     0  \n",
       "1       CA  d_1     0  \n",
       "2       CA  d_1     0  \n",
       "3       CA  d_1     0  \n",
       "4       CA  d_1     0  "
      ]
     },
     "execution_count": 16,
     "metadata": {},
     "output_type": "execute_result"
    }
   ],
   "source": [
    "# Melt\n",
    "df = pd.melt(sales, id_vars=['id', 'item_id', 'dept_id', 'cat_id', 'store_id', 'state_id'], \n",
    "             var_name='d', value_name='sold').dropna()\n",
    "print(\"{:,} records to combine with calendar and price\".format(len(df)))\n",
    "df.head()"
   ]
  },
  {
   "cell_type": "markdown",
   "metadata": {},
   "source": [
    "#### Combine Data"
   ]
  },
  {
   "cell_type": "code",
   "execution_count": 17,
   "metadata": {
    "collapsed": true
   },
   "outputs": [],
   "source": [
    "# Combine with calendar\n",
    "df = pd.merge(df, calendar, on='d', how='left')\n",
    "# Combine with price\n",
    "df = pd.merge(df, prices, on=['store_id','item_id','wm_yr_wk'], how='left') "
   ]
  },
  {
   "cell_type": "code",
   "execution_count": 18,
   "metadata": {},
   "outputs": [
    {
     "name": "stdout",
     "output_type": "stream",
     "text": [
      "60,034,810 records in df\n"
     ]
    },
    {
     "data": {
      "text/html": [
       "<div>\n",
       "<style scoped>\n",
       "    .dataframe tbody tr th:only-of-type {\n",
       "        vertical-align: middle;\n",
       "    }\n",
       "\n",
       "    .dataframe tbody tr th {\n",
       "        vertical-align: top;\n",
       "    }\n",
       "\n",
       "    .dataframe thead th {\n",
       "        text-align: right;\n",
       "    }\n",
       "</style>\n",
       "<table border=\"1\" class=\"dataframe\">\n",
       "  <thead>\n",
       "    <tr style=\"text-align: right;\">\n",
       "      <th></th>\n",
       "      <th>id</th>\n",
       "      <th>item_id</th>\n",
       "      <th>dept_id</th>\n",
       "      <th>cat_id</th>\n",
       "      <th>store_id</th>\n",
       "      <th>state_id</th>\n",
       "      <th>d</th>\n",
       "      <th>sold</th>\n",
       "      <th>date</th>\n",
       "      <th>wm_yr_wk</th>\n",
       "      <th>weekday</th>\n",
       "      <th>wday</th>\n",
       "      <th>month</th>\n",
       "      <th>year</th>\n",
       "      <th>event_name_1</th>\n",
       "      <th>event_type_1</th>\n",
       "      <th>event_name_2</th>\n",
       "      <th>event_type_2</th>\n",
       "      <th>snap_CA</th>\n",
       "      <th>snap_TX</th>\n",
       "      <th>snap_WI</th>\n",
       "      <th>sell_price</th>\n",
       "    </tr>\n",
       "  </thead>\n",
       "  <tbody>\n",
       "    <tr>\n",
       "      <th>0</th>\n",
       "      <td>HOBBIES_1_001_CA_1_evaluation</td>\n",
       "      <td>HOBBIES_1_001</td>\n",
       "      <td>HOBBIES_1</td>\n",
       "      <td>HOBBIES</td>\n",
       "      <td>CA_1</td>\n",
       "      <td>CA</td>\n",
       "      <td>d_1</td>\n",
       "      <td>0</td>\n",
       "      <td>2011-01-29</td>\n",
       "      <td>11101</td>\n",
       "      <td>Saturday</td>\n",
       "      <td>1</td>\n",
       "      <td>1</td>\n",
       "      <td>2011</td>\n",
       "      <td>NaN</td>\n",
       "      <td>NaN</td>\n",
       "      <td>NaN</td>\n",
       "      <td>NaN</td>\n",
       "      <td>0</td>\n",
       "      <td>0</td>\n",
       "      <td>0</td>\n",
       "      <td>NaN</td>\n",
       "    </tr>\n",
       "    <tr>\n",
       "      <th>1</th>\n",
       "      <td>HOBBIES_1_002_CA_1_evaluation</td>\n",
       "      <td>HOBBIES_1_002</td>\n",
       "      <td>HOBBIES_1</td>\n",
       "      <td>HOBBIES</td>\n",
       "      <td>CA_1</td>\n",
       "      <td>CA</td>\n",
       "      <td>d_1</td>\n",
       "      <td>0</td>\n",
       "      <td>2011-01-29</td>\n",
       "      <td>11101</td>\n",
       "      <td>Saturday</td>\n",
       "      <td>1</td>\n",
       "      <td>1</td>\n",
       "      <td>2011</td>\n",
       "      <td>NaN</td>\n",
       "      <td>NaN</td>\n",
       "      <td>NaN</td>\n",
       "      <td>NaN</td>\n",
       "      <td>0</td>\n",
       "      <td>0</td>\n",
       "      <td>0</td>\n",
       "      <td>NaN</td>\n",
       "    </tr>\n",
       "    <tr>\n",
       "      <th>2</th>\n",
       "      <td>HOBBIES_1_003_CA_1_evaluation</td>\n",
       "      <td>HOBBIES_1_003</td>\n",
       "      <td>HOBBIES_1</td>\n",
       "      <td>HOBBIES</td>\n",
       "      <td>CA_1</td>\n",
       "      <td>CA</td>\n",
       "      <td>d_1</td>\n",
       "      <td>0</td>\n",
       "      <td>2011-01-29</td>\n",
       "      <td>11101</td>\n",
       "      <td>Saturday</td>\n",
       "      <td>1</td>\n",
       "      <td>1</td>\n",
       "      <td>2011</td>\n",
       "      <td>NaN</td>\n",
       "      <td>NaN</td>\n",
       "      <td>NaN</td>\n",
       "      <td>NaN</td>\n",
       "      <td>0</td>\n",
       "      <td>0</td>\n",
       "      <td>0</td>\n",
       "      <td>NaN</td>\n",
       "    </tr>\n",
       "    <tr>\n",
       "      <th>3</th>\n",
       "      <td>HOBBIES_1_004_CA_1_evaluation</td>\n",
       "      <td>HOBBIES_1_004</td>\n",
       "      <td>HOBBIES_1</td>\n",
       "      <td>HOBBIES</td>\n",
       "      <td>CA_1</td>\n",
       "      <td>CA</td>\n",
       "      <td>d_1</td>\n",
       "      <td>0</td>\n",
       "      <td>2011-01-29</td>\n",
       "      <td>11101</td>\n",
       "      <td>Saturday</td>\n",
       "      <td>1</td>\n",
       "      <td>1</td>\n",
       "      <td>2011</td>\n",
       "      <td>NaN</td>\n",
       "      <td>NaN</td>\n",
       "      <td>NaN</td>\n",
       "      <td>NaN</td>\n",
       "      <td>0</td>\n",
       "      <td>0</td>\n",
       "      <td>0</td>\n",
       "      <td>NaN</td>\n",
       "    </tr>\n",
       "    <tr>\n",
       "      <th>4</th>\n",
       "      <td>HOBBIES_1_005_CA_1_evaluation</td>\n",
       "      <td>HOBBIES_1_005</td>\n",
       "      <td>HOBBIES_1</td>\n",
       "      <td>HOBBIES</td>\n",
       "      <td>CA_1</td>\n",
       "      <td>CA</td>\n",
       "      <td>d_1</td>\n",
       "      <td>0</td>\n",
       "      <td>2011-01-29</td>\n",
       "      <td>11101</td>\n",
       "      <td>Saturday</td>\n",
       "      <td>1</td>\n",
       "      <td>1</td>\n",
       "      <td>2011</td>\n",
       "      <td>NaN</td>\n",
       "      <td>NaN</td>\n",
       "      <td>NaN</td>\n",
       "      <td>NaN</td>\n",
       "      <td>0</td>\n",
       "      <td>0</td>\n",
       "      <td>0</td>\n",
       "      <td>NaN</td>\n",
       "    </tr>\n",
       "  </tbody>\n",
       "</table>\n",
       "</div>"
      ],
      "text/plain": [
       "                              id        item_id    dept_id   cat_id store_id  \\\n",
       "0  HOBBIES_1_001_CA_1_evaluation  HOBBIES_1_001  HOBBIES_1  HOBBIES     CA_1   \n",
       "1  HOBBIES_1_002_CA_1_evaluation  HOBBIES_1_002  HOBBIES_1  HOBBIES     CA_1   \n",
       "2  HOBBIES_1_003_CA_1_evaluation  HOBBIES_1_003  HOBBIES_1  HOBBIES     CA_1   \n",
       "3  HOBBIES_1_004_CA_1_evaluation  HOBBIES_1_004  HOBBIES_1  HOBBIES     CA_1   \n",
       "4  HOBBIES_1_005_CA_1_evaluation  HOBBIES_1_005  HOBBIES_1  HOBBIES     CA_1   \n",
       "\n",
       "  state_id    d  sold       date  wm_yr_wk   weekday  wday  month  year  \\\n",
       "0       CA  d_1     0 2011-01-29     11101  Saturday     1      1  2011   \n",
       "1       CA  d_1     0 2011-01-29     11101  Saturday     1      1  2011   \n",
       "2       CA  d_1     0 2011-01-29     11101  Saturday     1      1  2011   \n",
       "3       CA  d_1     0 2011-01-29     11101  Saturday     1      1  2011   \n",
       "4       CA  d_1     0 2011-01-29     11101  Saturday     1      1  2011   \n",
       "\n",
       "  event_name_1 event_type_1 event_name_2 event_type_2  snap_CA  snap_TX  \\\n",
       "0          NaN          NaN          NaN          NaN        0        0   \n",
       "1          NaN          NaN          NaN          NaN        0        0   \n",
       "2          NaN          NaN          NaN          NaN        0        0   \n",
       "3          NaN          NaN          NaN          NaN        0        0   \n",
       "4          NaN          NaN          NaN          NaN        0        0   \n",
       "\n",
       "   snap_WI  sell_price  \n",
       "0        0         NaN  \n",
       "1        0         NaN  \n",
       "2        0         NaN  \n",
       "3        0         NaN  \n",
       "4        0         NaN  "
      ]
     },
     "execution_count": 18,
     "metadata": {},
     "output_type": "execute_result"
    }
   ],
   "source": [
    "print(\"{:,} records in df\".format(len(df)))\n",
    "df.head()"
   ]
  },
  {
   "cell_type": "code",
   "execution_count": 19,
   "metadata": {
    "collapsed": true
   },
   "outputs": [],
   "source": [
    "del sales"
   ]
  },
  {
   "cell_type": "markdown",
   "metadata": {},
   "source": [
    "---"
   ]
  },
  {
   "cell_type": "markdown",
   "metadata": {},
   "source": [
    "## Features Engineering\n",
    "> Time Series data must be re-framed as a supervised learning dataset before we can start using machine learning algorithms:\n",
    "- There is no concept of input and output features in time series. \n",
    "- Instead, we must choose the variable to be predicted and use feature engineering to construct all of the inputs that will be used to make predictions for future time steps.\n",
    "\n",
    "### 1. Label Encoding"
   ]
  },
  {
   "cell_type": "code",
   "execution_count": 22,
   "metadata": {
    "collapsed": true
   },
   "outputs": [],
   "source": [
    "# Change Store id to category type\n",
    "df.store_id = df.store_id.astype('category')\n",
    "df.item_id = df.item_id.astype('category')\n",
    "df.cat_id = df.cat_id.astype('category')\n",
    "df.state_id = df.state_id.astype('category')\n",
    "df.id = df.id.astype('category')\n",
    "df.dept_id = df.dept_id.astype('category')\n",
    "\n",
    "# Store the categories along with their codes\n",
    "d_id = dict(zip(df.id.cat.codes, df.id))\n",
    "\n",
    "# Item, Department and Categories\n",
    "d_item_id = dict(zip(df.item_id.cat.codes, df.item_id))\n",
    "d_dept_id = dict(zip(df.dept_id.cat.codes, df.dept_id))\n",
    "d_cat_id = dict(zip(df.cat_id.cat.codes, df.cat_id))\n",
    "\n",
    "# Stores and States\n",
    "d_store_id = dict(zip(df.store_id.cat.codes, df.store_id))\n",
    "d_state_id = dict(zip(df.state_id.cat.codes, df.state_id))\n",
    "\n",
    "# Save to DataFrame\n",
    "LIST_SAVE = [d_id, d_item_id, d_dept_id, d_cat_id, d_store_id, d_state_id]\n",
    "LIST_NAME = ['d_id', 'd_item_id', 'd_dept_id', 'd_cat_id', 'd_store_id', 'd_state_id']\n",
    "for list_save, list_name in zip(LIST_SAVE, LIST_NAME):\n",
    "    pickle.dump(list_save, open('data/{}.p'.format(list_name), \"wb\"))  "
   ]
  },
  {
   "cell_type": "code",
   "execution_count": 23,
   "metadata": {},
   "outputs": [
    {
     "name": "stdout",
     "output_type": "stream",
     "text": [
      "Dataframe shape: (60034810, 21)\n"
     ]
    },
    {
     "data": {
      "text/html": [
       "<div>\n",
       "<style scoped>\n",
       "    .dataframe tbody tr th:only-of-type {\n",
       "        vertical-align: middle;\n",
       "    }\n",
       "\n",
       "    .dataframe tbody tr th {\n",
       "        vertical-align: top;\n",
       "    }\n",
       "\n",
       "    .dataframe thead th {\n",
       "        text-align: right;\n",
       "    }\n",
       "</style>\n",
       "<table border=\"1\" class=\"dataframe\">\n",
       "  <thead>\n",
       "    <tr style=\"text-align: right;\">\n",
       "      <th></th>\n",
       "      <th>id</th>\n",
       "      <th>item_id</th>\n",
       "      <th>dept_id</th>\n",
       "      <th>cat_id</th>\n",
       "      <th>store_id</th>\n",
       "      <th>state_id</th>\n",
       "      <th>d</th>\n",
       "      <th>sold</th>\n",
       "      <th>wm_yr_wk</th>\n",
       "      <th>weekday</th>\n",
       "      <th>wday</th>\n",
       "      <th>month</th>\n",
       "      <th>year</th>\n",
       "      <th>event_name_1</th>\n",
       "      <th>event_type_1</th>\n",
       "      <th>event_name_2</th>\n",
       "      <th>event_type_2</th>\n",
       "      <th>snap_CA</th>\n",
       "      <th>snap_TX</th>\n",
       "      <th>snap_WI</th>\n",
       "      <th>sell_price</th>\n",
       "    </tr>\n",
       "  </thead>\n",
       "  <tbody>\n",
       "    <tr>\n",
       "      <th>0</th>\n",
       "      <td>14370</td>\n",
       "      <td>1437</td>\n",
       "      <td>3</td>\n",
       "      <td>1</td>\n",
       "      <td>0</td>\n",
       "      <td>0</td>\n",
       "      <td>1</td>\n",
       "      <td>0</td>\n",
       "      <td>11101</td>\n",
       "      <td>2</td>\n",
       "      <td>1</td>\n",
       "      <td>1</td>\n",
       "      <td>2011</td>\n",
       "      <td>-1</td>\n",
       "      <td>-1</td>\n",
       "      <td>-1</td>\n",
       "      <td>-1</td>\n",
       "      <td>0</td>\n",
       "      <td>0</td>\n",
       "      <td>0</td>\n",
       "      <td>NaN</td>\n",
       "    </tr>\n",
       "    <tr>\n",
       "      <th>1</th>\n",
       "      <td>14380</td>\n",
       "      <td>1438</td>\n",
       "      <td>3</td>\n",
       "      <td>1</td>\n",
       "      <td>0</td>\n",
       "      <td>0</td>\n",
       "      <td>1</td>\n",
       "      <td>0</td>\n",
       "      <td>11101</td>\n",
       "      <td>2</td>\n",
       "      <td>1</td>\n",
       "      <td>1</td>\n",
       "      <td>2011</td>\n",
       "      <td>-1</td>\n",
       "      <td>-1</td>\n",
       "      <td>-1</td>\n",
       "      <td>-1</td>\n",
       "      <td>0</td>\n",
       "      <td>0</td>\n",
       "      <td>0</td>\n",
       "      <td>NaN</td>\n",
       "    </tr>\n",
       "    <tr>\n",
       "      <th>2</th>\n",
       "      <td>14390</td>\n",
       "      <td>1439</td>\n",
       "      <td>3</td>\n",
       "      <td>1</td>\n",
       "      <td>0</td>\n",
       "      <td>0</td>\n",
       "      <td>1</td>\n",
       "      <td>0</td>\n",
       "      <td>11101</td>\n",
       "      <td>2</td>\n",
       "      <td>1</td>\n",
       "      <td>1</td>\n",
       "      <td>2011</td>\n",
       "      <td>-1</td>\n",
       "      <td>-1</td>\n",
       "      <td>-1</td>\n",
       "      <td>-1</td>\n",
       "      <td>0</td>\n",
       "      <td>0</td>\n",
       "      <td>0</td>\n",
       "      <td>NaN</td>\n",
       "    </tr>\n",
       "    <tr>\n",
       "      <th>3</th>\n",
       "      <td>14400</td>\n",
       "      <td>1440</td>\n",
       "      <td>3</td>\n",
       "      <td>1</td>\n",
       "      <td>0</td>\n",
       "      <td>0</td>\n",
       "      <td>1</td>\n",
       "      <td>0</td>\n",
       "      <td>11101</td>\n",
       "      <td>2</td>\n",
       "      <td>1</td>\n",
       "      <td>1</td>\n",
       "      <td>2011</td>\n",
       "      <td>-1</td>\n",
       "      <td>-1</td>\n",
       "      <td>-1</td>\n",
       "      <td>-1</td>\n",
       "      <td>0</td>\n",
       "      <td>0</td>\n",
       "      <td>0</td>\n",
       "      <td>NaN</td>\n",
       "    </tr>\n",
       "    <tr>\n",
       "      <th>4</th>\n",
       "      <td>14410</td>\n",
       "      <td>1441</td>\n",
       "      <td>3</td>\n",
       "      <td>1</td>\n",
       "      <td>0</td>\n",
       "      <td>0</td>\n",
       "      <td>1</td>\n",
       "      <td>0</td>\n",
       "      <td>11101</td>\n",
       "      <td>2</td>\n",
       "      <td>1</td>\n",
       "      <td>1</td>\n",
       "      <td>2011</td>\n",
       "      <td>-1</td>\n",
       "      <td>-1</td>\n",
       "      <td>-1</td>\n",
       "      <td>-1</td>\n",
       "      <td>0</td>\n",
       "      <td>0</td>\n",
       "      <td>0</td>\n",
       "      <td>NaN</td>\n",
       "    </tr>\n",
       "  </tbody>\n",
       "</table>\n",
       "</div>"
      ],
      "text/plain": [
       "      id  item_id  dept_id  cat_id  store_id  state_id  d  sold  wm_yr_wk  \\\n",
       "0  14370     1437        3       1         0         0  1     0     11101   \n",
       "1  14380     1438        3       1         0         0  1     0     11101   \n",
       "2  14390     1439        3       1         0         0  1     0     11101   \n",
       "3  14400     1440        3       1         0         0  1     0     11101   \n",
       "4  14410     1441        3       1         0         0  1     0     11101   \n",
       "\n",
       "   weekday  wday  month  year  event_name_1  event_type_1  event_name_2  \\\n",
       "0        2     1      1  2011            -1            -1            -1   \n",
       "1        2     1      1  2011            -1            -1            -1   \n",
       "2        2     1      1  2011            -1            -1            -1   \n",
       "3        2     1      1  2011            -1            -1            -1   \n",
       "4        2     1      1  2011            -1            -1            -1   \n",
       "\n",
       "   event_type_2  snap_CA  snap_TX  snap_WI  sell_price  \n",
       "0            -1        0        0        0         NaN  \n",
       "1            -1        0        0        0         NaN  \n",
       "2            -1        0        0        0         NaN  \n",
       "3            -1        0        0        0         NaN  \n",
       "4            -1        0        0        0         NaN  "
      ]
     },
     "execution_count": 23,
     "metadata": {},
     "output_type": "execute_result"
    }
   ],
   "source": [
    "# Mapping with Category Codes\n",
    "\n",
    "# Remove d_ and transform to int (dates)\n",
    "df.d = df['d'].apply(lambda x: x.split('_')[1]).astype(np.int16)\n",
    "cols = df.dtypes.index.tolist()\n",
    "types = df.dtypes.values.tolist()\n",
    "\n",
    "# Transform categorical data to codes\n",
    "for i,type in enumerate(types):\n",
    "    if type.name == 'category':\n",
    "        df[cols[i]] = df[cols[i]].cat.codes\n",
    "        \n",
    "# Drop Dates\n",
    "df.drop('date',axis=1,inplace=True)\n",
    "print(\"Dataframe shape: {}\".format(df.shape))\n",
    "df.head()"
   ]
  },
  {
   "cell_type": "markdown",
   "metadata": {},
   "source": [
    "### 2. Introduce Lag\n",
    "> Lag features are the classical way that time series forecasting problems are transformed into supervised learning problems.\n",
    "- Introduce lags to the the target variable sold. \n",
    "- The maximum lag I have introduced is 36 days. \n",
    "- It's purely upto you how many lags you want to introduce."
   ]
  },
  {
   "cell_type": "markdown",
   "metadata": {},
   "source": [
    "> TODO LIST: Test performances and features importance with other values of lags"
   ]
  },
  {
   "cell_type": "code",
   "execution_count": 24,
   "metadata": {},
   "outputs": [
    {
     "data": {
      "text/html": [
       "<div>\n",
       "<style scoped>\n",
       "    .dataframe tbody tr th:only-of-type {\n",
       "        vertical-align: middle;\n",
       "    }\n",
       "\n",
       "    .dataframe tbody tr th {\n",
       "        vertical-align: top;\n",
       "    }\n",
       "\n",
       "    .dataframe thead th {\n",
       "        text-align: right;\n",
       "    }\n",
       "</style>\n",
       "<table border=\"1\" class=\"dataframe\">\n",
       "  <thead>\n",
       "    <tr style=\"text-align: right;\">\n",
       "      <th></th>\n",
       "      <th>id</th>\n",
       "      <th>item_id</th>\n",
       "      <th>dept_id</th>\n",
       "      <th>cat_id</th>\n",
       "      <th>store_id</th>\n",
       "      <th>state_id</th>\n",
       "      <th>d</th>\n",
       "      <th>sold</th>\n",
       "      <th>wm_yr_wk</th>\n",
       "      <th>weekday</th>\n",
       "      <th>wday</th>\n",
       "      <th>month</th>\n",
       "      <th>year</th>\n",
       "      <th>event_name_1</th>\n",
       "      <th>event_type_1</th>\n",
       "      <th>event_name_2</th>\n",
       "      <th>event_type_2</th>\n",
       "      <th>snap_CA</th>\n",
       "      <th>snap_TX</th>\n",
       "      <th>snap_WI</th>\n",
       "      <th>sell_price</th>\n",
       "      <th>sold_lag_1</th>\n",
       "      <th>sold_lag_2</th>\n",
       "      <th>sold_lag_3</th>\n",
       "      <th>sold_lag_7</th>\n",
       "      <th>sold_lag_14</th>\n",
       "      <th>sold_lag_28</th>\n",
       "    </tr>\n",
       "  </thead>\n",
       "  <tbody>\n",
       "    <tr>\n",
       "      <th>0</th>\n",
       "      <td>14370</td>\n",
       "      <td>1437</td>\n",
       "      <td>3</td>\n",
       "      <td>1</td>\n",
       "      <td>0</td>\n",
       "      <td>0</td>\n",
       "      <td>1</td>\n",
       "      <td>0</td>\n",
       "      <td>11101</td>\n",
       "      <td>2</td>\n",
       "      <td>1</td>\n",
       "      <td>1</td>\n",
       "      <td>2011</td>\n",
       "      <td>-1</td>\n",
       "      <td>-1</td>\n",
       "      <td>-1</td>\n",
       "      <td>-1</td>\n",
       "      <td>0</td>\n",
       "      <td>0</td>\n",
       "      <td>0</td>\n",
       "      <td>NaN</td>\n",
       "      <td>NaN</td>\n",
       "      <td>NaN</td>\n",
       "      <td>NaN</td>\n",
       "      <td>NaN</td>\n",
       "      <td>NaN</td>\n",
       "      <td>NaN</td>\n",
       "    </tr>\n",
       "    <tr>\n",
       "      <th>1</th>\n",
       "      <td>14380</td>\n",
       "      <td>1438</td>\n",
       "      <td>3</td>\n",
       "      <td>1</td>\n",
       "      <td>0</td>\n",
       "      <td>0</td>\n",
       "      <td>1</td>\n",
       "      <td>0</td>\n",
       "      <td>11101</td>\n",
       "      <td>2</td>\n",
       "      <td>1</td>\n",
       "      <td>1</td>\n",
       "      <td>2011</td>\n",
       "      <td>-1</td>\n",
       "      <td>-1</td>\n",
       "      <td>-1</td>\n",
       "      <td>-1</td>\n",
       "      <td>0</td>\n",
       "      <td>0</td>\n",
       "      <td>0</td>\n",
       "      <td>NaN</td>\n",
       "      <td>NaN</td>\n",
       "      <td>NaN</td>\n",
       "      <td>NaN</td>\n",
       "      <td>NaN</td>\n",
       "      <td>NaN</td>\n",
       "      <td>NaN</td>\n",
       "    </tr>\n",
       "    <tr>\n",
       "      <th>2</th>\n",
       "      <td>14390</td>\n",
       "      <td>1439</td>\n",
       "      <td>3</td>\n",
       "      <td>1</td>\n",
       "      <td>0</td>\n",
       "      <td>0</td>\n",
       "      <td>1</td>\n",
       "      <td>0</td>\n",
       "      <td>11101</td>\n",
       "      <td>2</td>\n",
       "      <td>1</td>\n",
       "      <td>1</td>\n",
       "      <td>2011</td>\n",
       "      <td>-1</td>\n",
       "      <td>-1</td>\n",
       "      <td>-1</td>\n",
       "      <td>-1</td>\n",
       "      <td>0</td>\n",
       "      <td>0</td>\n",
       "      <td>0</td>\n",
       "      <td>NaN</td>\n",
       "      <td>NaN</td>\n",
       "      <td>NaN</td>\n",
       "      <td>NaN</td>\n",
       "      <td>NaN</td>\n",
       "      <td>NaN</td>\n",
       "      <td>NaN</td>\n",
       "    </tr>\n",
       "    <tr>\n",
       "      <th>3</th>\n",
       "      <td>14400</td>\n",
       "      <td>1440</td>\n",
       "      <td>3</td>\n",
       "      <td>1</td>\n",
       "      <td>0</td>\n",
       "      <td>0</td>\n",
       "      <td>1</td>\n",
       "      <td>0</td>\n",
       "      <td>11101</td>\n",
       "      <td>2</td>\n",
       "      <td>1</td>\n",
       "      <td>1</td>\n",
       "      <td>2011</td>\n",
       "      <td>-1</td>\n",
       "      <td>-1</td>\n",
       "      <td>-1</td>\n",
       "      <td>-1</td>\n",
       "      <td>0</td>\n",
       "      <td>0</td>\n",
       "      <td>0</td>\n",
       "      <td>NaN</td>\n",
       "      <td>NaN</td>\n",
       "      <td>NaN</td>\n",
       "      <td>NaN</td>\n",
       "      <td>NaN</td>\n",
       "      <td>NaN</td>\n",
       "      <td>NaN</td>\n",
       "    </tr>\n",
       "    <tr>\n",
       "      <th>4</th>\n",
       "      <td>14410</td>\n",
       "      <td>1441</td>\n",
       "      <td>3</td>\n",
       "      <td>1</td>\n",
       "      <td>0</td>\n",
       "      <td>0</td>\n",
       "      <td>1</td>\n",
       "      <td>0</td>\n",
       "      <td>11101</td>\n",
       "      <td>2</td>\n",
       "      <td>1</td>\n",
       "      <td>1</td>\n",
       "      <td>2011</td>\n",
       "      <td>-1</td>\n",
       "      <td>-1</td>\n",
       "      <td>-1</td>\n",
       "      <td>-1</td>\n",
       "      <td>0</td>\n",
       "      <td>0</td>\n",
       "      <td>0</td>\n",
       "      <td>NaN</td>\n",
       "      <td>NaN</td>\n",
       "      <td>NaN</td>\n",
       "      <td>NaN</td>\n",
       "      <td>NaN</td>\n",
       "      <td>NaN</td>\n",
       "      <td>NaN</td>\n",
       "    </tr>\n",
       "  </tbody>\n",
       "</table>\n",
       "</div>"
      ],
      "text/plain": [
       "      id  item_id  dept_id  cat_id  store_id  state_id  d  sold  wm_yr_wk  \\\n",
       "0  14370     1437        3       1         0         0  1     0     11101   \n",
       "1  14380     1438        3       1         0         0  1     0     11101   \n",
       "2  14390     1439        3       1         0         0  1     0     11101   \n",
       "3  14400     1440        3       1         0         0  1     0     11101   \n",
       "4  14410     1441        3       1         0         0  1     0     11101   \n",
       "\n",
       "   weekday  wday  month  year  event_name_1  event_type_1  event_name_2  \\\n",
       "0        2     1      1  2011            -1            -1            -1   \n",
       "1        2     1      1  2011            -1            -1            -1   \n",
       "2        2     1      1  2011            -1            -1            -1   \n",
       "3        2     1      1  2011            -1            -1            -1   \n",
       "4        2     1      1  2011            -1            -1            -1   \n",
       "\n",
       "   event_type_2  snap_CA  snap_TX  snap_WI  sell_price  sold_lag_1  \\\n",
       "0            -1        0        0        0         NaN         NaN   \n",
       "1            -1        0        0        0         NaN         NaN   \n",
       "2            -1        0        0        0         NaN         NaN   \n",
       "3            -1        0        0        0         NaN         NaN   \n",
       "4            -1        0        0        0         NaN         NaN   \n",
       "\n",
       "   sold_lag_2  sold_lag_3  sold_lag_7  sold_lag_14  sold_lag_28  \n",
       "0         NaN         NaN         NaN          NaN          NaN  \n",
       "1         NaN         NaN         NaN          NaN          NaN  \n",
       "2         NaN         NaN         NaN          NaN          NaN  \n",
       "3         NaN         NaN         NaN          NaN          NaN  \n",
       "4         NaN         NaN         NaN          NaN          NaN  "
      ]
     },
     "execution_count": 24,
     "metadata": {},
     "output_type": "execute_result"
    }
   ],
   "source": [
    "# Introduce lags (days)\n",
    "lags = [1, 2, 3, 7, 14, 28]\n",
    "for lag in lags:\n",
    "    df['sold_lag_'+str(lag)] = df.groupby(\n",
    "        ['id', 'item_id', 'dept_id', 'cat_id', 'store_id', 'state_id'], \n",
    "        as_index = False)['sold'].shift(lag).astype(np.float16)\n",
    "df.head()"
   ]
  },
  {
   "cell_type": "markdown",
   "metadata": {},
   "source": [
    "---"
   ]
  },
  {
   "cell_type": "markdown",
   "metadata": {},
   "source": [
    "### 3. Mean Encoding\n",
    "> From a mathematical point of view, mean encoding represents a probability of your target variable, conditional on each value of the feature. In a way, it embodies the target variable in its encoded value. I have calculated mean encodings on the basis of following logical features\n",
    "\n",
    "- item\n",
    "- state\n",
    "- store\n",
    "- category\n",
    "- department\n",
    "- category & department\n",
    "- store & item\n",
    "- category & item\n",
    "- department & item\n",
    "- state & store\n",
    "- state, store and category\n",
    "- store, category and department"
   ]
  },
  {
   "cell_type": "code",
   "execution_count": 25,
   "metadata": {
    "collapsed": true
   },
   "outputs": [],
   "source": [
    "# Total Average Sales by: item, state, store, cat and dept\n",
    "df['iteam_sold_avg'] = df.groupby('item_id')['sold'].transform('mean').astype(np.float16)\n",
    "df['state_sold_avg'] = df.groupby('state_id')['sold'].transform('mean').astype(np.float16)\n",
    "df['store_sold_avg'] = df.groupby('store_id')['sold'].transform('mean').astype(np.float16)\n",
    "df['cat_sold_avg'] = df.groupby('cat_id')['sold'].transform('mean').astype(np.float16)\n",
    "df['dept_sold_avg'] = df.groupby('dept_id')['sold'].transform('mean').astype(np.float16)\n",
    "\n",
    "# Sales average by \n",
    "df['cat_dept_sold_avg'] = df.groupby(['cat_id','dept_id'])['sold'].transform('mean').astype(np.float16)\n",
    "df['store_item_sold_avg'] = df.groupby(['store_id','item_id'])['sold'].transform('mean').astype(np.float16)\n",
    "df['cat_item_sold_avg'] = df.groupby(['cat_id','item_id'])['sold'].transform('mean').astype(np.float16)\n",
    "df['dept_item_sold_avg'] = df.groupby(['dept_id','item_id'])['sold'].transform('mean').astype(np.float16)\n",
    "df['state_store_sold_avg'] = df.groupby(['state_id','store_id'])['sold'].transform('mean').astype(np.float16)\n",
    "df['state_store_cat_sold_avg'] = df.groupby(['state_id','store_id','cat_id'])['sold'].transform('mean').astype(np.float16)\n",
    "df['store_cat_dept_sold_avg'] = df.groupby(['store_id','cat_id','dept_id'])['sold'].transform('mean').astype(np.float16)"
   ]
  },
  {
   "cell_type": "markdown",
   "metadata": {},
   "source": [
    "### 4. Rolling Average (Window) on actual sales\n",
    "| Days = 7"
   ]
  },
  {
   "cell_type": "code",
   "execution_count": 26,
   "metadata": {
    "collapsed": true
   },
   "outputs": [],
   "source": [
    "df['rolling_sold_mean'] = df.groupby(\n",
    "    ['id', 'item_id', 'dept_id', 'cat_id', 'store_id', 'state_id'])['sold'].transform(\n",
    "    lambda x: x.rolling(window=7).mean()).astype(np.float16)\n",
    "\n",
    "# Average for the last n days\n",
    "for days in [3, 7, 14, 21, 28]:\n",
    "    df['rolling_sold_mean_{}'.format(days)] = df.groupby(\n",
    "    ['id', 'item_id', 'dept_id', 'cat_id', 'store_id', 'state_id'])['sold'].transform(\n",
    "    lambda x: x.rolling(window=days).mean()).astype(np.float16)"
   ]
  },
  {
   "cell_type": "markdown",
   "metadata": {},
   "source": [
    "### 5. Rolling Average (Window) on actual lag\n",
    "- rmean_7_7: rolling mean sales of a window size of 7 over column lag_7\n",
    "- rmean_7_28: rolling mean sales of a window size of 7 over column lag_28\n",
    "- rmean_28_7: rolling mean sales of a window size of 28 over column lag_7\n",
    "- rmean_28_28: rolling mean sales of a window size of 28 over column lag_28"
   ]
  },
  {
   "cell_type": "code",
   "execution_count": 27,
   "metadata": {
    "collapsed": true
   },
   "outputs": [],
   "source": [
    "# Rolling Average on actual lag\n",
    "for window, lag in zip([7, 7, 28, 28], [7, 28, 7, 28]):\n",
    "    df['rolling_lag_{}_win_{}'.format(window, lag)] = df.groupby(\n",
    "    ['id', 'item_id', 'dept_id', 'cat_id', 'store_id', 'state_id'])['sold_lag_{}'.format(lag)].transform(\n",
    "    lambda x: x.rolling(window=window).mean()).astype(np.float16)"
   ]
  },
  {
   "cell_type": "markdown",
   "metadata": {},
   "source": [
    "### 6. Trends \n",
    "By SKU (Store + Item Id)"
   ]
  },
  {
   "cell_type": "code",
   "execution_count": 28,
   "metadata": {
    "collapsed": true
   },
   "outputs": [],
   "source": [
    "# Daily Average by SKU (Item Id + Store)\n",
    "df['daily_avg_sold'] = df.groupby(\n",
    "    ['id', 'item_id', 'dept_id', 'cat_id', 'store_id', 'state_id','d'])['sold'].transform('mean').astype(np.float16)\n",
    "# Total Average by SKU (Item Id + Store)\n",
    "df['avg_sold'] = df.groupby(\n",
    "    ['id', 'item_id', 'dept_id', 'cat_id', 'store_id', 'state_id'])['sold'].transform('mean').astype(np.float16)\n",
    "# Selling Trend\n",
    "df['selling_trend'] = (df['daily_avg_sold'] - df['avg_sold']).astype(np.float16)\n",
    "\n",
    "# Drop Columns \n",
    "df.drop(['daily_avg_sold','avg_sold'],axis=1,inplace=True)"
   ]
  },
  {
   "cell_type": "markdown",
   "metadata": {},
   "source": [
    "---"
   ]
  },
  {
   "cell_type": "markdown",
   "metadata": {},
   "source": [
    "## /!\\ Additional Ideas for Features Engineering /!\\ \n",
    "### Trends by SKU for all stores\n",
    "By Item (All Stores)"
   ]
  },
  {
   "cell_type": "code",
   "execution_count": 29,
   "metadata": {
    "collapsed": true
   },
   "outputs": [],
   "source": [
    "# Daily Average by SKU (Item Id + Store)\n",
    "df['item_daily_avg_sold'] = df.groupby(\n",
    "    ['id', 'item_id', 'dept_id', 'cat_id', 'd'])['sold'].transform('mean').astype(np.float16)\n",
    "# Total Average by SKU (Item Id + Store)\n",
    "df['item_avg_sold'] = df.groupby(\n",
    "    ['id', 'item_id', 'dept_id', 'cat_id'])['sold'].transform('mean').astype(np.float16)\n",
    "# Selling Trend\n",
    "df['item_selling_trend'] = (df['item_daily_avg_sold'] - df['item_avg_sold']).astype(np.float16)\n",
    "\n",
    "# Drop Columns \n",
    "df.drop(['item_daily_avg_sold','item_avg_sold'],axis=1,inplace=True)"
   ]
  },
  {
   "cell_type": "markdown",
   "metadata": {},
   "source": [
    "### Rolling Average (Window) on actual lag\n",
    "- rmean_7_7: rolling mean sales of a window size of 7 over column lag_7\n",
    "- rmean_7_28: rolling mean sales of a window size of 7 over column lag_28\n",
    "- rmean_28_7: rolling mean sales of a window size of 28 over column lag_7\n",
    "- rmean_28_28: rolling mean sales of a window size of 28 over column lag_28\n",
    "\n",
    "Insipiration: https://www.kaggle.com/kneroma/m5-first-public-notebook-under-0-50/notebook\n",
    "> Great explanation in comments based on business insights (why 7, 28 days?)"
   ]
  },
  {
   "cell_type": "code",
   "execution_count": 30,
   "metadata": {
    "collapsed": true
   },
   "outputs": [],
   "source": [
    "# Rolling Average on actual lag\n",
    "for window, lag in zip([7, 7, 28, 28], [7, 28, 7, 28]):\n",
    "    df['rolling_lag_{}_win_{}'.format(window, lag)] = df.groupby(\n",
    "    ['id', 'item_id', 'dept_id', 'cat_id', 'store_id', 'state_id'])['sold_lag_{}'.format(lag)].transform(\n",
    "    lambda x: x.rolling(window=window).mean()).astype(np.float16)"
   ]
  },
  {
   "cell_type": "markdown",
   "metadata": {},
   "source": [
    "### Rolling Max (Window): Last n days"
   ]
  },
  {
   "cell_type": "code",
   "execution_count": 31,
   "metadata": {
    "collapsed": true
   },
   "outputs": [],
   "source": [
    "df['rolling_sold_max'] = df.groupby(\n",
    "    ['id', 'item_id', 'dept_id', 'cat_id', 'store_id', 'state_id'])['sold'].transform(\n",
    "    lambda x: x.rolling(window=7).max()).astype(np.float16)\n",
    "\n",
    "# Average for the last n days\n",
    "for days in [1, 2, 7, 14, 21, 28]:\n",
    "    df['rolling_sold_max_{}'.format(days)] = df.groupby(\n",
    "    ['id', 'item_id', 'dept_id', 'cat_id', 'store_id', 'state_id'])['sold'].transform(\n",
    "    lambda x: x.rolling(window=days).max()).astype(np.float16)"
   ]
  },
  {
   "cell_type": "markdown",
   "metadata": {},
   "source": [
    "### Stock-Outs: Do you have stock availability issue that cause zero sales in the last n days ?\n",
    "\n",
    "Definition: \n",
    "- When the inventory level is below the customer demand we have a stock-out (i.e if you have 0 units in your shelves and customer are looking for your products => stock-out)\n",
    "\n",
    "> Assumption: we will suppose that if you do not have sales for 3 days in a row you have a stock-out"
   ]
  },
  {
   "cell_type": "code",
   "execution_count": 32,
   "metadata": {},
   "outputs": [
    {
     "name": "stdout",
     "output_type": "stream",
     "text": [
      "30,490 unique id with 30,489.0 id changes\n"
     ]
    }
   ],
   "source": [
    "# Sort the dataset by item_id and day\n",
    "df.sort_values(['id', 'd'], ascending =[True, True], inplace = True)\n",
    "\n",
    "# Mapping id change\n",
    "df['id_change'] = df['id'].diff().fillna(0)\n",
    "print(\"{:,} unique id with {:,} id changes\".format(df.id.nunique(), df['id_change'].sum()))\n",
    "# Zero Sale \n",
    "df['zero_sale'] = (df['sold'] == 0) * (df['id_change']==False) * 1\n",
    "df['stock_out_id'] = (df['zero_sale'].transform(\n",
    "        lambda x: x.rolling(window=3).sum()).astype(np.float16)==3) * 1\n",
    "\n",
    "# Drop useless columns\n",
    "df.drop(['id_change', 'zero_sale'], axis = 1, inplace = True)\n",
    "\n",
    "# Stock-Outs in the last n days ?\n",
    "for n_days in [1, 2, 7]: \n",
    "    df['stock_out_id_last_{}_days'.format(n_days)] = (df['stock_out_id'].transform(\n",
    "        lambda x: x.rolling(window=n_days).sum()).astype(np.float16)>0) * 1"
   ]
  },
  {
   "cell_type": "markdown",
   "metadata": {},
   "source": [
    "### Store Opening: Was the store closed in the last n days ?\n",
    "\n",
    "> Assumption: if the store total sales is zero => closed"
   ]
  },
  {
   "cell_type": "code",
   "execution_count": 33,
   "metadata": {
    "collapsed": true
   },
   "outputs": [],
   "source": [
    "# Store Closed = Sales zero\n",
    "df['store_closed'] = (df.groupby(\n",
    "    ['store_id', 'd'])['sold'].transform('sum').astype(np.float16) == 0) * 1"
   ]
  },
  {
   "cell_type": "code",
   "execution_count": 34,
   "metadata": {
    "collapsed": true
   },
   "outputs": [],
   "source": [
    "# Store Closed = Sales zero\n",
    "for n_days in [1, 2, 7]: # closed the last week \n",
    "    df['store_closed_last_{}_days'.format(n_days)] = (df['store_closed'].transform(\n",
    "        lambda x: x.rolling(window=n_days).sum()).astype(np.float16)>0) * 1"
   ]
  },
  {
   "cell_type": "markdown",
   "metadata": {},
   "source": [
    "### Save Dataset"
   ]
  },
  {
   "cell_type": "code",
   "execution_count": 35,
   "metadata": {
    "collapsed": true
   },
   "outputs": [],
   "source": [
    "df.to_pickle('data/data_features_improved.pkl')"
   ]
  },
  {
   "cell_type": "code",
   "execution_count": 34,
   "metadata": {
    "collapsed": true
   },
   "outputs": [],
   "source": [
    "del df"
   ]
  },
  {
   "cell_type": "markdown",
   "metadata": {},
   "source": [
    "---"
   ]
  },
  {
   "cell_type": "markdown",
   "metadata": {},
   "source": [
    "## Modelling and Prediction\n",
    "> Model = LGBM\n",
    "- Choose features (original + additional)\n",
    "- TO DO Search Grid (I can't because of my limited computing ressources :))\n",
    "- Measure Performance"
   ]
  },
  {
   "cell_type": "markdown",
   "metadata": {},
   "source": [
    "#### Import Procesed DataFrame"
   ]
  },
  {
   "cell_type": "code",
   "execution_count": 3,
   "metadata": {},
   "outputs": [],
   "source": [
    "# Import Data\n",
    "data_size = 'improved'\n",
    "data = pd.read_pickle('data/data_features_{}.pkl'.format(data_size))\n",
    "\n",
    "# Start records from 55th\n",
    "start_row = 55\n",
    "data = data[data['d'] >= start_row].copy()\n",
    "print(\"{:,} records for the prepared data\".format(len(data)))\n",
    "data.head()"
   ]
  },
  {
   "cell_type": "markdown",
   "metadata": {},
   "source": [
    "#### Import key data"
   ]
  },
  {
   "cell_type": "code",
   "execution_count": 7,
   "metadata": {
    "collapsed": true
   },
   "outputs": [],
   "source": [
    "LIST_NAME = ['d_id', 'd_item_id', 'd_dept_id', 'd_cat_id', 'd_store_id', 'd_state_id']\n",
    "dict_data = {}\n",
    "for list_name in LIST_NAME:\n",
    "    dict_temp = pickle.load(open('Data/General/{}.p'.format(list_name), \"rb\"))\n",
    "    dict_data[list_name] = dict_temp\n",
    "    del dict_temp"
   ]
  },
  {
   "cell_type": "markdown",
   "metadata": {},
   "source": [
    "### 1. Show Features\n",
    "> We'll split the features we created in groups so we can add them progressively and measure the impact on the accuracy"
   ]
  },
  {
   "cell_type": "code",
   "execution_count": 8,
   "metadata": {
    "collapsed": true
   },
   "outputs": [],
   "source": [
    "# Initial Features\n",
    "INIT_FEAT = list(data.columns[0:21])\n",
    "\n",
    "# Lags and averages\n",
    "LAGAV_FEAT = list(data.columns[24:42])\n",
    "\n",
    "# Rolling Means and Rolling Means on lag\n",
    "ROLLMEAN_FEAT = list(data.columns[42:52])\n",
    "\n",
    "# Trends and Rolling MAX\n",
    "TREND_MAX_FEAT = list(data.columns[52:58])\n",
    "\n",
    "# Stock-Out and Store Closed\n",
    "# SO_CLOSED_FEAT = list(data.columns[58:67])\n",
    "SO_CLOSED_FEAT = list(['stock_out_id', 'store_closed'])\n",
    "\n",
    "# PRICE COMPARISON\n",
    "PRICE_COMPARE = list(data.columns[21:24])\n",
    "\n",
    "# Dictionnary with different steps\n",
    "dict_features = {\n",
    "    'STEP_1': INIT_FEAT,\n",
    "    'STEP_2': INIT_FEAT+LAGAV_FEAT,\n",
    "    'STEP_3': INIT_FEAT+LAGAV_FEAT+ROLLMEAN_FEAT,\n",
    "    'STEP_4': INIT_FEAT+LAGAV_FEAT+ROLLMEAN_FEAT+TREND_MAX_FEAT,\n",
    "    'STEP_5': INIT_FEAT+LAGAV_FEAT+ROLLMEAN_FEAT+TREND_MAX_FEAT+SO_CLOSED_FEAT,\n",
    "    'STEP_6': INIT_FEAT+LAGAV_FEAT+ROLLMEAN_FEAT+TREND_MAX_FEAT+SO_CLOSED_FEAT+PRICE_COMPARE,\n",
    "}\n",
    "LIST_STEPS = ['STEP_1', 'STEP_2', 'STEP_3', 'STEP_4', 'STEP_5', 'STEP_6']\n",
    "LIST_STEPS_NAME = ['INITIAL_DATA', 'INITIAL + LAG + AVERAGES', \n",
    "                  'INITIAL + LAG + AVERAGES + ROLLING MEAN',\n",
    "                  'INITIAL + LAG AND AVERAGES + ROLLING MEAN + TREND AND ROLLING MAX',\n",
    "                  'INITIAL + LAG AND AVERAGES + ROLLING MEAN + TREND AND ROLLING MAX + STOCK-OUT AND STORE CLOSED',\n",
    "                  'INITIAL + LAG AND AVERAGES + ROLLING MEAN + TREND AND ROLLING MAX + STOCK-OUT AND STORE CLOSED + PRICE COMPARISON']\n",
    "dict_stepname = dict(zip(LIST_STEPS, LIST_STEPS_NAME))"
   ]
  },
  {
   "cell_type": "markdown",
   "metadata": {},
   "source": [
    "### 2. Train and Test Models\n",
    "#### Create Validation and Test sets"
   ]
  },
  {
   "cell_type": "code",
   "execution_count": 11,
   "metadata": {
    "collapsed": true
   },
   "outputs": [],
   "source": [
    "# Validation Set\n",
    "valid = data[(data['d']>=1914) & (data['d']<1942)][['id','d','sold']]\n",
    "# Validation Prediction\n",
    "valid_preds = valid['sold']\n",
    "\n",
    "# Test Set\n",
    "test = data[data['d'] >= 1942][['id', 'd', 'sold']]\n",
    "# Evaluation Prediction\n",
    "eval_preds = test['sold']"
   ]
  },
  {
   "cell_type": "markdown",
   "metadata": {},
   "source": [
    "#### Train and Test Models with different features"
   ]
  },
  {
   "cell_type": "code",
   "execution_count": 12,
   "metadata": {
    "scrolled": false
   },
   "outputs": [
    {
     "name": "stdout",
     "output_type": "stream",
     "text": [
      "*****Prediction for STEP: INITIAL_DATA*****\n",
      "For INITIAL_DATA: RMSE = 166.5922878247231\n",
      "*****Prediction for STEP: INITIAL + LAG + AVERAGES*****\n",
      "For INITIAL + LAG + AVERAGES: RMSE = 136.86106334740734\n",
      "*****Prediction for STEP: INITIAL + LAG + AVERAGES + ROLLING MEAN*****\n",
      "For INITIAL + LAG + AVERAGES + ROLLING MEAN: RMSE = 18.613120309842593\n",
      "*****Prediction for STEP: INITIAL + LAG AND AVERAGES + ROLLING MEAN + TREND AND ROLLING MAX*****\n",
      "For INITIAL + LAG AND AVERAGES + ROLLING MEAN + TREND AND ROLLING MAX: RMSE = 6.47061859337155\n",
      "*****Prediction for STEP: INITIAL + LAG AND AVERAGES + ROLLING MEAN + TREND AND ROLLING MAX + STOCK-OUT AND STORE CLOSED*****\n",
      "For INITIAL + LAG AND AVERAGES + ROLLING MEAN + TREND AND ROLLING MAX + STOCK-OUT AND STORE CLOSED: RMSE = 6.355151609638661\n",
      "*****Prediction for STEP: INITIAL + LAG AND AVERAGES + ROLLING MEAN + TREND AND ROLLING MAX + STOCK-OUT AND STORE CLOSED + PRICE COMPARISON*****\n",
      "For INITIAL + LAG AND AVERAGES + ROLLING MEAN + TREND AND ROLLING MAX + STOCK-OUT AND STORE CLOSED + PRICE COMPARISON: RMSE = 4.598720935658507\n"
     ]
    },
    {
     "data": {
      "text/html": [
       "<div>\n",
       "<style scoped>\n",
       "    .dataframe tbody tr th:only-of-type {\n",
       "        vertical-align: middle;\n",
       "    }\n",
       "\n",
       "    .dataframe tbody tr th {\n",
       "        vertical-align: top;\n",
       "    }\n",
       "\n",
       "    .dataframe thead th {\n",
       "        text-align: right;\n",
       "    }\n",
       "</style>\n",
       "<table border=\"1\" class=\"dataframe\">\n",
       "  <thead>\n",
       "    <tr style=\"text-align: right;\">\n",
       "      <th></th>\n",
       "      <th>STEP</th>\n",
       "      <th>STEP_NAME</th>\n",
       "      <th>rmse</th>\n",
       "    </tr>\n",
       "  </thead>\n",
       "  <tbody>\n",
       "    <tr>\n",
       "      <th>0</th>\n",
       "      <td>STEP_1</td>\n",
       "      <td>INITIAL_DATA</td>\n",
       "      <td>166.592288</td>\n",
       "    </tr>\n",
       "    <tr>\n",
       "      <th>1</th>\n",
       "      <td>STEP_2</td>\n",
       "      <td>INITIAL + LAG + AVERAGES</td>\n",
       "      <td>136.861063</td>\n",
       "    </tr>\n",
       "    <tr>\n",
       "      <th>2</th>\n",
       "      <td>STEP_3</td>\n",
       "      <td>INITIAL + LAG + AVERAGES + ROLLING MEAN</td>\n",
       "      <td>18.613120</td>\n",
       "    </tr>\n",
       "    <tr>\n",
       "      <th>3</th>\n",
       "      <td>STEP_4</td>\n",
       "      <td>INITIAL + LAG AND AVERAGES + ROLLING MEAN + TR...</td>\n",
       "      <td>6.470619</td>\n",
       "    </tr>\n",
       "    <tr>\n",
       "      <th>4</th>\n",
       "      <td>STEP_5</td>\n",
       "      <td>INITIAL + LAG AND AVERAGES + ROLLING MEAN + TR...</td>\n",
       "      <td>6.355152</td>\n",
       "    </tr>\n",
       "    <tr>\n",
       "      <th>5</th>\n",
       "      <td>STEP_6</td>\n",
       "      <td>INITIAL + LAG AND AVERAGES + ROLLING MEAN + TR...</td>\n",
       "      <td>4.598721</td>\n",
       "    </tr>\n",
       "  </tbody>\n",
       "</table>\n",
       "</div>"
      ],
      "text/plain": [
       "     STEP                                          STEP_NAME        rmse\n",
       "0  STEP_1                                       INITIAL_DATA  166.592288\n",
       "1  STEP_2                           INITIAL + LAG + AVERAGES  136.861063\n",
       "2  STEP_3            INITIAL + LAG + AVERAGES + ROLLING MEAN   18.613120\n",
       "3  STEP_4  INITIAL + LAG AND AVERAGES + ROLLING MEAN + TR...    6.470619\n",
       "4  STEP_5  INITIAL + LAG AND AVERAGES + ROLLING MEAN + TR...    6.355152\n",
       "5  STEP_6  INITIAL + LAG AND AVERAGES + ROLLING MEAN + TR...    4.598721"
      ]
     },
     "execution_count": 12,
     "metadata": {},
     "output_type": "execute_result"
    }
   ],
   "source": [
    "# Get the store ids\n",
    "stores = data.store_id.unique()\n",
    "d_store_id = dict_data['d_store_id']\n",
    "\n",
    "# Dictionnary with errors each step\n",
    "dict_error = {}\n",
    "\n",
    "# Loop with the steps\n",
    "for step in LIST_STEPS:\n",
    "\n",
    "    # Folder for Models \n",
    "    print('*****Prediction for STEP: {}*****'.format(dict_stepname[step]))\n",
    "    FOLDER_MODEL = 'Model/{}/{}_Features_Improved/'.format(data_size, step)\n",
    "    Path(FOLDER_MODEL).mkdir(parents=True, exist_ok=True)\n",
    "    COLS_SCOPE = dict_features[step]\n",
    "\n",
    "    # DataFrame with filter scope\n",
    "    data_scope = data[COLS_SCOPE].copy()\n",
    "\n",
    "    # Validation Set\n",
    "    valid = data_scope[(data_scope['d']>=1914) & (data_scope['d']<1942)][['id','d','sold']]\n",
    "    # Validation Prediction\n",
    "    valid_set = valid['sold']\n",
    "\n",
    "    # Validation + Predicition for all stores by step \n",
    "    df_validpred = pd.DataFrame()\n",
    "\n",
    "    # Loop for training a model for each store\n",
    "    for store in stores:\n",
    "\n",
    "        # Dataframe for each store\n",
    "        df = data_scope[data_scope['store_id']==store]\n",
    "\n",
    "        # Train Data until day = 1914\n",
    "        X_train, y_train = df[df['d']<1914].drop('sold',axis=1), df[df['d']<1914]['sold']\n",
    "\n",
    "        # Validation Day: 1914 to 1942\n",
    "        X_valid, y_valid = df[(df['d']>=1914) & (df['d']<1942)].drop('sold',axis=1), df[(df['d']>=1914) & (df['d']<1942)]['sold']\n",
    "\n",
    "        # X_test with \n",
    "        X_test = df[df['d']>=1942].drop('sold',axis=1)\n",
    "        \n",
    "        # Train and validate\n",
    "        model = LGBMRegressor(\n",
    "            n_estimators=1000,\n",
    "            learning_rate=0.3,\n",
    "            subsample=0.8,\n",
    "            colsample_bytree=0.8,\n",
    "            max_depth=8,\n",
    "            num_leaves=50,\n",
    "            min_child_weight=300\n",
    "        )\n",
    "\n",
    "\n",
    "        # Fit model\n",
    "        model.fit(X_train, y_train, \n",
    "                  eval_set = [(X_train,y_train),(X_valid,y_valid)], \n",
    "                  eval_metric = 'rmse', \n",
    "                  verbose = 0, \n",
    "                  early_stopping_rounds = 20)\n",
    "\n",
    "        # Compute Prediction\n",
    "        valid_pred = model.predict(X_valid)\n",
    "\n",
    "        # Actual Validation vs. Prediction\n",
    "        df_valid = pd.DataFrame({\n",
    "            'validation':valid_set[X_valid.index],\n",
    "            'prediction':valid_pred,\n",
    "            'store': d_store_id[store]\n",
    "        })\n",
    "        df_valid['error'] = df_valid['validation'] - df_valid['prediction']\n",
    "        df_validpred = pd.concat([df_validpred, df_valid])\n",
    "        # Save prediction\n",
    "        df_valid.to_csv(FOLDER_MODEL + 'prediction_{}.csv'.format(step))\n",
    "\n",
    "        # Save model\n",
    "        filename = FOLDER_MODEL + 'model_features_total-' + str(d_store_id[store])+'.pkl'\n",
    "        joblib.dump(model, filename)\n",
    "\n",
    "        del model, X_train, y_train, X_valid, y_valid\n",
    "\n",
    "    # Save Prediction for all stores\n",
    "    df_validpred.to_csv(FOLDER_MODEL + 'prediction_{}.csv'.format(step))\n",
    "\n",
    "    # Compute Error\n",
    "    valid_rmse = 100 * np.sqrt(np.mean((df_validpred.validation.values - df_validpred.prediction.values) ** 2))/np.mean(df_validpred.validation.values)\n",
    "    # Add Error in a Dictionnary\n",
    "    dict_error[step] = valid_rmse\n",
    "    print(\"For {}: RMSE = {}\".format(dict_stepname[step], valid_rmse))\n",
    "\n",
    "# Final DataFrame with error for all stores by STEP\n",
    "df_error = pd.DataFrame({\n",
    "    'STEP': LIST_STEPS,\n",
    "    'STEP_NAME': [dict_stepname[step] for step in LIST_STEPS],\n",
    "    'rmse': [dict_error[step] for step in LIST_STEPS]\n",
    "    })\n",
    "df_error.to_excel(FOLDER_MODEL + 'df_error.xlsx')\n",
    "df_error"
   ]
  },
  {
   "cell_type": "markdown",
   "metadata": {},
   "source": [
    "### Plot "
   ]
  },
  {
   "cell_type": "code",
   "execution_count": 20,
   "metadata": {},
   "outputs": [
    {
     "data": {
      "image/png": "[encoded data removed]",
      "text/plain": [
       "<Figure size 864x576 with 1 Axes>"
      ]
     },
     "metadata": {},
     "output_type": "display_data"
    }
   ],
   "source": [
    "# Plot\n",
    "ax = plt.gca()\n",
    "df_error.plot.bar(figsize=(12, 8), x='STEP', y='rmse', ax=ax, color = 'black')\n",
    "plt.xlabel('Features')\n",
    "plt.ylabel('RMSE (%)')\n",
    "plt.title('Root Mean Square Error (%) for each step of the experiment')\n",
    "plt.xticks(rotation=90)\n",
    "plt.show()"
   ]
  },
  {
   "cell_type": "markdown",
   "metadata": {},
   "source": [
    "---"
   ]
  },
  {
   "cell_type": "markdown",
   "metadata": {},
   "source": [
    "## Additional Analysis\n",
    "### Plot Features Importance for each model"
   ]
  },
  {
   "cell_type": "code",
   "execution_count": 24,
   "metadata": {
    "scrolled": true
   },
   "outputs": [
    {
     "name": "stdout",
     "output_type": "stream",
     "text": [
      "*****Prot Features Importance for STEP: INITIAL_DATA*****\n"
     ]
    },
    {
     "data": {
      "image/png": "[encoded data removed]",
      "text/plain": [
       "<Figure size 432x720 with 1 Axes>"
      ]
     },
     "metadata": {},
     "output_type": "display_data"
    },
    {
     "name": "stdout",
     "output_type": "stream",
     "text": [
      "*****Prot Features Importance for STEP: INITIAL + LAG + AVERAGES*****\n"
     ]
    },
    {
     "data": {
      "image/png": "[encoded data removed]",
      "text/plain": [
       "<Figure size 432x720 with 1 Axes>"
      ]
     },
     "metadata": {},
     "output_type": "display_data"
    },
    {
     "name": "stdout",
     "output_type": "stream",
     "text": [
      "*****Prot Features Importance for STEP: INITIAL + LAG + AVERAGES + ROLLING MEAN*****\n"
     ]
    },
    {
     "data": {
      "image/png": "[encoded data removed]",
      "text/plain": [
       "<Figure size 432x720 with 1 Axes>"
      ]
     },
     "metadata": {},
     "output_type": "display_data"
    },
    {
     "name": "stdout",
     "output_type": "stream",
     "text": [
      "*****Prot Features Importance for STEP: INITIAL + LAG AND AVERAGES + ROLLING MEAN + TREND AND ROLLING MAX*****\n"
     ]
    },
    {
     "data": {
      "image/png": "[encoded data removed]",
      "text/plain": [
       "<Figure size 432x720 with 1 Axes>"
      ]
     },
     "metadata": {},
     "output_type": "display_data"
    },
    {
     "name": "stdout",
     "output_type": "stream",
     "text": [
      "*****Prot Features Importance for STEP: INITIAL + LAG AND AVERAGES + ROLLING MEAN + TREND AND ROLLING MAX + STOCK-OUT AND STORE CLOSED*****\n"
     ]
    },
    {
     "data": {
      "image/png": "[encoded data removed]",
      "text/plain": [
       "<Figure size 432x720 with 1 Axes>"
      ]
     },
     "metadata": {},
     "output_type": "display_data"
    },
    {
     "name": "stdout",
     "output_type": "stream",
     "text": [
      "*****Prot Features Importance for STEP: INITIAL + LAG AND AVERAGES + ROLLING MEAN + TREND AND ROLLING MAX + STOCK-OUT AND STORE CLOSED + PRICE COMPARISON*****\n"
     ]
    },
    {
     "data": {
      "image/png": "[encoded data removed]",
      "text/plain": [
       "<Figure size 432x720 with 1 Axes>"
      ]
     },
     "metadata": {},
     "output_type": "display_data"
    }
   ],
   "source": [
    "# Folder for Models \n",
    "for step in LIST_STEPS:\n",
    "    print('*****Prot Features Importance for STEP: {}*****'.format(dict_stepname[step]))\n",
    "\n",
    "    FOLDER_MODEL = 'Model/{}/{}_Features_Improved/'.format(data_size, step)\n",
    "    Path(FOLDER_MODEL).mkdir(parents=True, exist_ok=True)\n",
    "    COLS_SCOPE = dict_features[step]\n",
    "\n",
    "    feature_importance_df = pd.DataFrame()\n",
    "    features = [f for f in COLS_SCOPE if f != 'sold']\n",
    "\n",
    "    for store in stores:\n",
    "        store_name = d_store_id[store]\n",
    "        filename = FOLDER_MODEL + 'model_features_total-' + str(d_store_id[store])+'.pkl'\n",
    "        # load model\n",
    "        model = joblib.load(filename)\n",
    "\n",
    "        # Create features importance for this model\n",
    "        store_importance_df = pd.DataFrame()\n",
    "        store_importance_df[\"feature\"] = features\n",
    "        store_importance_df[\"importance\"] = model.feature_importances_\n",
    "        store_importance_df[\"store\"] = store_name\n",
    "\n",
    "        # Concat\n",
    "        feature_importance_df = pd.concat([feature_importance_df, store_importance_df], axis=0)\n",
    "\n",
    "    # Features Importances Analysis\n",
    "    df_fi_mean = pd.DataFrame(feature_importance_df[\n",
    "        [\"feature\", \"importance\"]].groupby(\"feature\").mean().sort_values(\n",
    "        by=\"importance\", ascending=False))\n",
    "    df_fi_mean.columns = ['importance']\n",
    "    df_fi_mean['%_importance'] = (100 * df_fi_mean['importance']/df_fi_mean['importance'].sum(axis =0)).round(2)\n",
    "    df_fi_mean.to_excel(FOLDER_MODEL + 'Features_Importance_{}.xlsx'.format(step))\n",
    "\n",
    "\n",
    "    # Plot\n",
    "    cols = df_fi_mean[:20].index\n",
    "    best_features = feature_importance_df.loc[feature_importance_df.feature.isin(cols)]\n",
    "\n",
    "    fig = plt.figure(figsize=(6,10))\n",
    "    ax = fig.gca()\n",
    "    sns.barplot(x=\"importance\", y=\"feature\", data = best_features.sort_values(by=\"importance\", ascending=False))\n",
    "    plt.title('LightGBM Top 20 Features: {}'.format(step))\n",
    "    plt.tight_layout()\n",
    "    fig.savefig(FOLDER_MODEL + 'Features_Importance_{}.png'.format(step))\n",
    "    plt.show()"
   ]
  }
 ],
 "metadata": {
  "kernelspec": {
   "display_name": "Python 3",
   "language": "python",
   "name": "python3"
  },
  "language_info": {
   "codemirror_mode": {
    "name": "ipython",
    "version": 3
   },
   "file_extension": ".py",
   "mimetype": "text/x-python",
   "name": "python",
   "nbconvert_exporter": "python",
   "pygments_lexer": "ipython3",
   "version": "3.12.3"
  }
 },
 "nbformat": 4,
 "nbformat_minor": 2
}
